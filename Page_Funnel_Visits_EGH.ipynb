{
 "cells": [
  {
   "cell_type": "code",
   "execution_count": 4,
   "metadata": {},
   "outputs": [],
   "source": [
    "import pandas as pd"
   ]
  },
  {
   "cell_type": "markdown",
   "metadata": {},
   "source": [
    "Import all the files"
   ]
  },
  {
   "cell_type": "code",
   "execution_count": 3,
   "metadata": {},
   "outputs": [],
   "source": [
    "visits = pd.read_csv('visits.csv',\n",
    "                     parse_dates=[1])\n",
    "cart = pd.read_csv('cart.csv',\n",
    "                   parse_dates=[1])\n",
    "                   \n",
    "checkout = pd.read_csv('checkout.csv',\n",
    "                       parse_dates=[1])\n",
    "purchase = pd.read_csv('purchase.csv',\n",
    "                       parse_dates=[1])"
   ]
  },
  {
   "cell_type": "markdown",
   "metadata": {},
   "source": [
    "Step 1: Inspect the DataFrames using `print` and `head`"
   ]
  },
  {
   "cell_type": "markdown",
   "metadata": {},
   "source": [
    "- visits lists all of the users who have visited the website\n",
    "- cart lists all of the users who have added a t-shirt to their cart\n",
    "- checkout lists all of the users who have started the checkout\n",
    "- purchase lists all of the users who have purchased a t-shirt"
   ]
  },
  {
   "cell_type": "code",
   "execution_count": 5,
   "metadata": {},
   "outputs": [
    {
     "name": "stdout",
     "output_type": "stream",
     "text": [
      "                                user_id          visit_time\n",
      "0  943647ef-3682-4750-a2e1-918ba6f16188 2017-04-07 15:14:00\n",
      "1  0c3a3dd0-fb64-4eac-bf84-ba069ce409f2 2017-01-26 14:24:00\n",
      "2  6e0b2d60-4027-4d9a-babd-0e7d40859fb1 2017-08-20 08:23:00\n",
      "3  6879527e-c5a6-4d14-b2da-50b85212b0ab 2017-11-04 18:15:00\n",
      "4  a84327ff-5daa-4ba1-b789-d5b4caf81e96 2017-02-27 11:25:00\n",
      "                                user_id           cart_time\n",
      "0  2be90e7c-9cca-44e0-bcc5-124b945ff168 2017-11-07 20:45:00\n",
      "1  4397f73f-1da3-4ab3-91af-762792e25973 2017-05-27 01:35:00\n",
      "2  a9db3d4b-0a0a-4398-a55a-ebb2c7adf663 2017-03-04 10:38:00\n",
      "3  b594862a-36c5-47d5-b818-6e9512b939b3 2017-09-27 08:22:00\n",
      "4  a68a16e2-94f0-4ce8-8ce3-784af0bbb974 2017-07-26 15:48:00\n",
      "                                user_id       checkout_time\n",
      "0  d33bdc47-4afa-45bc-b4e4-dbe948e34c0d 2017-06-25 09:29:00\n",
      "1  4ac186f0-9954-4fea-8a27-c081e428e34e 2017-04-07 20:11:00\n",
      "2  3c9c78a7-124a-4b77-8d2e-e1926e011e7d 2017-07-13 11:38:00\n",
      "3  89fe330a-8966-4756-8f7c-3bdbcd47279a 2017-04-20 16:15:00\n",
      "4  3ccdaf69-2d30-40de-b083-51372881aedd 2017-01-08 20:52:00\n",
      "                                user_id       purchase_time\n",
      "0  4b44ace4-2721-47a0-b24b-15fbfa2abf85 2017-05-11 04:25:00\n",
      "1  02e684ae-a448-408f-a9ff-dcb4a5c99aac 2017-09-05 08:45:00\n",
      "2  4b4bc391-749e-4b90-ab8f-4f6e3c84d6dc 2017-11-20 20:49:00\n",
      "3  a5dbb25f-3c36-4103-9030-9f7c6241cd8d 2017-01-22 15:18:00\n",
      "4  46a3186d-7f5a-4ab9-87af-84d05bfd4867 2017-06-11 11:32:00\n"
     ]
    }
   ],
   "source": [
    "print(visits.head(5))\n",
    "print(cart.head(5))\n",
    "print(checkout.head(5))\n",
    "print(purchase.head(5))"
   ]
  },
  {
   "cell_type": "markdown",
   "metadata": {},
   "source": [
    "Step 2: Left merging visits and cart"
   ]
  },
  {
   "cell_type": "code",
   "execution_count": 11,
   "metadata": {},
   "outputs": [
    {
     "name": "stdout",
     "output_type": "stream",
     "text": [
      "                                user_id          visit_time  \\\n",
      "0  943647ef-3682-4750-a2e1-918ba6f16188 2017-04-07 15:14:00   \n",
      "1  0c3a3dd0-fb64-4eac-bf84-ba069ce409f2 2017-01-26 14:24:00   \n",
      "2  6e0b2d60-4027-4d9a-babd-0e7d40859fb1 2017-08-20 08:23:00   \n",
      "\n",
      "            cart_time  \n",
      "0                 NaT  \n",
      "1 2017-01-26 14:44:00  \n",
      "2 2017-08-20 08:31:00  \n"
     ]
    }
   ],
   "source": [
    "visits_cart = pd.merge(\n",
    "    visits\n",
    "    , cart\n",
    "    , how = 'left'\n",
    ")\n",
    "print(visits_cart.head(3))"
   ]
  },
  {
   "cell_type": "markdown",
   "metadata": {},
   "source": [
    "Step 3: How long is `visits_cart`?"
   ]
  },
  {
   "cell_type": "code",
   "execution_count": 12,
   "metadata": {},
   "outputs": [
    {
     "data": {
      "text/plain": [
       "2000"
      ]
     },
     "execution_count": 12,
     "metadata": {},
     "output_type": "execute_result"
    }
   ],
   "source": [
    "len(visits_cart) # which is the same as the length of visits (left join)"
   ]
  },
  {
   "cell_type": "markdown",
   "metadata": {},
   "source": [
    "Step 4: How many timestamps are null for `cart_time`?"
   ]
  },
  {
   "cell_type": "code",
   "execution_count": 18,
   "metadata": {},
   "outputs": [
    {
     "data": {
      "text/plain": [
       "348"
      ]
     },
     "execution_count": 18,
     "metadata": {},
     "output_type": "execute_result"
    }
   ],
   "source": [
    "not_null_carts = pd.notnull(visits_cart.cart_time).sum()\n",
    "not_null_carts"
   ]
  },
  {
   "cell_type": "markdown",
   "metadata": {},
   "source": [
    "Step 5: What percentage only visited?"
   ]
  },
  {
   "cell_type": "code",
   "execution_count": 20,
   "metadata": {},
   "outputs": [
    {
     "name": "stdout",
     "output_type": "stream",
     "text": [
      "0.174 only visited the page\n"
     ]
    }
   ],
   "source": [
    "total_visits = len(visits_cart)\n",
    "perc_only_visited = not_null_carts/total_visits\n",
    "print(\"{} only visited the page\".format(perc_only_visited)) "
   ]
  },
  {
   "cell_type": "markdown",
   "metadata": {},
   "source": [
    "Step 6: What percentage placed a t-shirt in their cart but did not checkout?"
   ]
  },
  {
   "cell_type": "code",
   "execution_count": 25,
   "metadata": {},
   "outputs": [
    {
     "name": "stdout",
     "output_type": "stream",
     "text": [
      "                                user_id          visit_time  \\\n",
      "0  943647ef-3682-4750-a2e1-918ba6f16188 2017-04-07 15:14:00   \n",
      "1  0c3a3dd0-fb64-4eac-bf84-ba069ce409f2 2017-01-26 14:24:00   \n",
      "2  6e0b2d60-4027-4d9a-babd-0e7d40859fb1 2017-08-20 08:23:00   \n",
      "\n",
      "            cart_time       checkout_time  \n",
      "0                 NaT                 NaT  \n",
      "1 2017-01-26 14:44:00 2017-01-26 14:54:00  \n",
      "2 2017-08-20 08:31:00                 NaT  \n"
     ]
    }
   ],
   "source": [
    "visits_cart_checkout = pd.merge(\n",
    "    visits_cart\n",
    "    , checkout\n",
    "    , how = 'left'\n",
    ")\n",
    "print(visits_cart_checkout.head(3))"
   ]
  },
  {
   "cell_type": "code",
   "execution_count": 31,
   "metadata": {},
   "outputs": [
    {
     "name": "stdout",
     "output_type": "stream",
     "text": [
      "226\n"
     ]
    }
   ],
   "source": [
    "#cheking results\n",
    "not_null_checkout = pd.notnull(visits_cart_checkout.checkout_time).sum()\n",
    "print(not_null_checkout)\n"
   ]
  },
  {
   "cell_type": "markdown",
   "metadata": {},
   "source": [
    "Step 7: Merge it all together"
   ]
  },
  {
   "cell_type": "code",
   "execution_count": 33,
   "metadata": {},
   "outputs": [
    {
     "name": "stdout",
     "output_type": "stream",
     "text": [
      "                                user_id          visit_time  \\\n",
      "0  943647ef-3682-4750-a2e1-918ba6f16188 2017-04-07 15:14:00   \n",
      "1  0c3a3dd0-fb64-4eac-bf84-ba069ce409f2 2017-01-26 14:24:00   \n",
      "2  6e0b2d60-4027-4d9a-babd-0e7d40859fb1 2017-08-20 08:23:00   \n",
      "\n",
      "            cart_time       checkout_time       purchase_time  \n",
      "0                 NaT                 NaT                 NaT  \n",
      "1 2017-01-26 14:44:00 2017-01-26 14:54:00 2017-01-26 15:08:00  \n",
      "2 2017-08-20 08:31:00                 NaT                 NaT  \n",
      "Funnel: Visits = 2108 -> Carts = 456 -> Checkout = 334 -> Purchase = 252 \n"
     ]
    }
   ],
   "source": [
    "funnel = pd.merge(\n",
    "    visits_cart_checkout\n",
    "    , purchase\n",
    "    , how = 'left'\n",
    ")\n",
    "print(funnel.head(3))\n",
    "\n",
    "visits = pd.notnull(funnel.visit_time).sum()\n",
    "carts = pd.notnull(funnel.cart_time).sum()\n",
    "checkouts = pd.notnull(funnel.checkout_time).sum()\n",
    "purchases = pd.notnull(funnel.purchase_time).sum()\n",
    "\n",
    "#Printing the funnel values\n",
    "print(\"Funnel: Visits = {} -> Carts = {} -> Checkout = {} -> Purchase = {} \".format(visits, carts, checkouts, purchases) )\n"
   ]
  },
  {
   "cell_type": "code",
   "execution_count": null,
   "metadata": {},
   "outputs": [],
   "source": []
  },
  {
   "cell_type": "markdown",
   "metadata": {},
   "source": [
    "Step 8: % of users who got to checkout but did not purchase"
   ]
  },
  {
   "cell_type": "code",
   "execution_count": 34,
   "metadata": {},
   "outputs": [
    {
     "data": {
      "text/plain": [
       "0.2455089820359282"
      ]
     },
     "execution_count": 34,
     "metadata": {},
     "output_type": "execute_result"
    }
   ],
   "source": [
    "1-purchases/checkouts"
   ]
  },
  {
   "cell_type": "markdown",
   "metadata": {},
   "source": [
    "Step 9: check each part of the funnel, let's print all 3 of them again"
   ]
  },
  {
   "cell_type": "code",
   "execution_count": 40,
   "metadata": {},
   "outputs": [
    {
     "name": "stdout",
     "output_type": "stream",
     "text": [
      "Funnel: \n",
      "\n",
      "22.0% converted from Visits to Carts\n",
      "73.0% converted from Carts to Checkouts\n",
      "75.0% converted from Checkouts to Purchases\n"
     ]
    }
   ],
   "source": [
    "perc_to_cart = round(carts/visits,2)\n",
    "perc_to_checkout = round(checkouts/carts,2)\n",
    "perc_to_purchase = round(purchases/checkouts,2)\n",
    "\n",
    "print(\"Funnel: \\n\")\n",
    "print(\"{}% converted from Visits to Carts\".format(perc_to_cart*100))\n",
    "print(\"{}% converted from Carts to Checkouts\".format(perc_to_checkout*100))\n",
    "print(\"{}% converted from Checkouts to Purchases\".format(perc_to_purchase*100))\n"
   ]
  },
  {
   "cell_type": "markdown",
   "metadata": {},
   "source": [
    "*The weakest part of the funnel is clearly getting a person who visited the site to add a tshirt to their cart. Once they've added a t-shirt to their cart it is fairly likely they end up purchasing it. A suggestion could be to make the add-to-cart button more prominent on the front page.*\n",
    "\n",
    "\n",
    "Step 10: adding new column"
   ]
  },
  {
   "cell_type": "code",
   "execution_count": 42,
   "metadata": {},
   "outputs": [
    {
     "name": "stdout",
     "output_type": "stream",
     "text": [
      "                                user_id          visit_time  \\\n",
      "0  943647ef-3682-4750-a2e1-918ba6f16188 2017-04-07 15:14:00   \n",
      "1  0c3a3dd0-fb64-4eac-bf84-ba069ce409f2 2017-01-26 14:24:00   \n",
      "2  6e0b2d60-4027-4d9a-babd-0e7d40859fb1 2017-08-20 08:23:00   \n",
      "3  6879527e-c5a6-4d14-b2da-50b85212b0ab 2017-11-04 18:15:00   \n",
      "4  a84327ff-5daa-4ba1-b789-d5b4caf81e96 2017-02-27 11:25:00   \n",
      "\n",
      "            cart_time       checkout_time       purchase_time     time_to_buy  \n",
      "0                 NaT                 NaT                 NaT             NaT  \n",
      "1 2017-01-26 14:44:00 2017-01-26 14:54:00 2017-01-26 15:08:00 0 days 00:44:00  \n",
      "2 2017-08-20 08:31:00                 NaT                 NaT             NaT  \n",
      "3                 NaT                 NaT                 NaT             NaT  \n",
      "4                 NaT                 NaT                 NaT             NaT  \n"
     ]
    }
   ],
   "source": [
    "# Let’s calculate the average time\n",
    "funnel['time_to_buy'] = funnel.purchase_time - funnel.visit_time\n"
   ]
  },
  {
   "cell_type": "markdown",
   "metadata": {},
   "source": [
    "Step 11: examine the results"
   ]
  },
  {
   "cell_type": "code",
   "execution_count": 48,
   "metadata": {},
   "outputs": [
    {
     "name": "stdout",
     "output_type": "stream",
     "text": [
      "                                 user_id          visit_time  \\\n",
      "1   0c3a3dd0-fb64-4eac-bf84-ba069ce409f2 2017-01-26 14:24:00   \n",
      "14  486480e2-98c3-4d51-8f4b-b1c07228ce84 2017-01-27 16:34:00   \n",
      "48  3ccdaf69-2d30-40de-b083-51372881aedd 2017-01-08 20:21:00   \n",
      "49  3ccdaf69-2d30-40de-b083-51372881aedd 2017-01-08 20:21:00   \n",
      "65  ab0125fc-9493-4f59-ad70-24ad264a3a0c 2017-11-18 03:21:00   \n",
      "70  ba65fa41-b88f-4ebc-8e66-7ade432f4f0d 2017-05-14 11:01:00   \n",
      "71  ba65fa41-b88f-4ebc-8e66-7ade432f4f0d 2017-05-14 11:01:00   \n",
      "72  ba65fa41-b88f-4ebc-8e66-7ade432f4f0d 2017-05-14 11:01:00   \n",
      "75  1f117a3f-5b5e-42ab-9dd6-42ade85771d2 2017-08-13 09:18:00   \n",
      "76  1f117a3f-5b5e-42ab-9dd6-42ade85771d2 2017-08-13 09:18:00   \n",
      "\n",
      "             cart_time       checkout_time       purchase_time     time_to_buy  \n",
      "1  2017-01-26 14:44:00 2017-01-26 14:54:00 2017-01-26 15:08:00 0 days 00:44:00  \n",
      "14 2017-01-27 16:44:00 2017-01-27 17:10:00 2017-01-27 17:12:00 0 days 00:38:00  \n",
      "48 2017-01-08 20:38:00 2017-01-08 20:52:00 2017-01-08 21:02:00 0 days 00:41:00  \n",
      "49 2017-01-08 20:38:00 2017-01-08 20:52:00 2017-01-08 21:21:00 0 days 01:00:00  \n",
      "65 2017-11-18 03:33:00 2017-11-18 03:57:00 2017-11-18 04:21:00 0 days 01:00:00  \n",
      "70 2017-05-14 11:21:00 2017-05-14 11:32:00 2017-05-14 11:35:00 0 days 00:34:00  \n",
      "71 2017-05-14 11:21:00 2017-05-14 11:32:00 2017-05-14 11:36:00 0 days 00:35:00  \n",
      "72 2017-05-14 11:21:00 2017-05-14 11:32:00 2017-05-14 11:54:00 0 days 00:53:00  \n",
      "75 2017-08-13 09:30:00 2017-08-13 09:42:00 2017-08-13 09:54:00 0 days 00:36:00  \n",
      "76 2017-08-13 09:30:00 2017-08-13 09:42:00 2017-08-13 09:43:00 0 days 00:25:00  \n"
     ]
    }
   ],
   "source": [
    "funnel_just_purchases = funnel[funnel.time_to_buy.notnull()]\n",
    "print(funnel_just_purchases.head(10))\n",
    "# here we can see time_to_buy is correct taking a few examples"
   ]
  },
  {
   "cell_type": "markdown",
   "metadata": {},
   "source": [
    "Step 12: average time to purchase"
   ]
  },
  {
   "cell_type": "code",
   "execution_count": null,
   "metadata": {},
   "outputs": [],
   "source": []
  },
  {
   "cell_type": "code",
   "execution_count": null,
   "metadata": {},
   "outputs": [],
   "source": []
  }
 ],
 "metadata": {
  "kernelspec": {
   "display_name": "Python 3 (ipykernel)",
   "language": "python",
   "name": "python3"
  },
  "language_info": {
   "codemirror_mode": {
    "name": "ipython",
    "version": 3
   },
   "file_extension": ".py",
   "mimetype": "text/x-python",
   "name": "python",
   "nbconvert_exporter": "python",
   "pygments_lexer": "ipython3",
   "version": "3.11.5"
  }
 },
 "nbformat": 4,
 "nbformat_minor": 4
}
